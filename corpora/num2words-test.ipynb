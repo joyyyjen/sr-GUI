{
 "cells": [
  {
   "cell_type": "code",
   "execution_count": null,
   "metadata": {},
   "outputs": [],
   "source": [
    "paragraph = 'this takes from 2:00 e2 in the afternoon \\'til what is it here?'\n",
    "#'it became an engineering discipline in the 1940s '\n",
    "#\"It's our 15th annivarsary. We have been married since 1959. My name is Yun-Hsuan\""
   ]
  },
  {
   "cell_type": "code",
   "execution_count": 38,
   "metadata": {},
   "outputs": [],
   "source": [
    "import string"
   ]
  },
  {
   "cell_type": "code",
   "execution_count": 76,
   "metadata": {},
   "outputs": [],
   "source": [
    "punct = string.punctuation\n",
    "#punct = punct.replace(\"-\", \"\")\n",
    "punct = punct.replace(\":\", \"\")\n",
    "pattern =  str.maketrans('','', punct)\n"
   ]
  },
  {
   "cell_type": "code",
   "execution_count": 62,
   "metadata": {},
   "outputs": [
    {
     "name": "stdout",
     "output_type": "stream",
     "text": [
      "! \" # $ % & ' ( ) * + , - . / : ; < = > ? @ [ \\ ] ^ _ ` { | } ~ "
     ]
    }
   ],
   "source": [
    "for i in punct: print(i,end=\" \")"
   ]
  },
  {
   "cell_type": "code",
   "execution_count": 77,
   "metadata": {},
   "outputs": [
    {
     "name": "stdout",
     "output_type": "stream",
     "text": [
      "this takes from 2:00 in the afternoon til what is it here\n"
     ]
    }
   ],
   "source": [
    "p = paragraph.translate(pattern).lower()\n",
    "print(p)"
   ]
  },
  {
   "cell_type": "code",
   "execution_count": 64,
   "metadata": {},
   "outputs": [],
   "source": [
    "from nltk.tokenize import wordpunct_tokenize"
   ]
  },
  {
   "cell_type": "code",
   "execution_count": 78,
   "metadata": {},
   "outputs": [
    {
     "name": "stdout",
     "output_type": "stream",
     "text": [
      "['this', 'takes', 'from', '2', ':', '00', 'in', 'the', 'afternoon', 'til', 'what', 'is', 'it', 'here']\n",
      "takes\n"
     ]
    }
   ],
   "source": [
    "tokens = wordpunct_tokenize(p)\n",
    "print(tokens)\n",
    "print(tokens[1])"
   ]
  },
  {
   "cell_type": "code",
   "execution_count": 59,
   "metadata": {},
   "outputs": [],
   "source": [
    "#post_processing = []\n",
    "#pairs = [(tokens[i],tokens[i+1]) for i in range(len(tokens)-1)]\n",
    "#pairs = [(tokens[i],tokens[i+2]) for i in range(len(tokens)-2)]\n",
    "\n",
    "#tri_grams = [tuple(tokens[i:i+3]) for i in range(len(tokens)-2)]"
   ]
  },
  {
   "cell_type": "code",
   "execution_count": 73,
   "metadata": {},
   "outputs": [
    {
     "name": "stdout",
     "output_type": "stream",
     "text": [
      "year 1940\n"
     ]
    }
   ],
   "source": [
    "ordinal_num = ['st','nd','rd','th']\n",
    "for i in tokens:\n",
    "    if i.isalpha() == False:\n",
    "        if i[-2:] in ordinal_num : print('ordinal num',i[:-2])\n",
    "        elif len(i) == 4 or 's' in i : print('year',i[:-1])\n",
    "        else: print('default')"
   ]
  },
  {
   "cell_type": "code",
   "execution_count": null,
   "metadata": {},
   "outputs": [],
   "source": []
  }
 ],
 "metadata": {
  "kernelspec": {
   "display_name": "Python 3",
   "language": "python",
   "name": "python3"
  },
  "language_info": {
   "codemirror_mode": {
    "name": "ipython",
    "version": 3
   },
   "file_extension": ".py",
   "mimetype": "text/x-python",
   "name": "python",
   "nbconvert_exporter": "python",
   "pygments_lexer": "ipython3",
   "version": "3.7.0"
  }
 },
 "nbformat": 4,
 "nbformat_minor": 2
}
